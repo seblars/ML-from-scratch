{
 "cells": [
  {
   "cell_type": "markdown",
   "metadata": {},
   "source": [
    "# Linear regression\n",
    "\n",
    "We wish to solve $Ax=b$ where $A \\in \\mathbb{R}^{m\\times n}$, $x \\in \\mathbb{R}^{n\\times 1}$, $b \\in \\mathbb{R}^{m\\times 1}$. \n",
    "\n",
    "i.e. we wish to best satisfy the solution that solves m equations with n unknowns.\n",
    "\n",
    "However, when $m > n$ there is typically not an exact solution so we use the \"Least Squares\" method.\n",
    "\n",
    "This method can be derived two ways:\n",
    "\n",
    "(1) geometrically as a projection, p, of vector b onto vector a:\n",
    "\n",
    "i.e. $a \\cdot (b - p) = a^Tb - a^Tp = 0$\n",
    "and $p=\\hat{x}a$\n",
    "\n",
    "so $a^Ta\\hat x = a^Tb$ which generalises to the matrix form.\n",
    "\n",
    "(2) take the derivative w.r.t the parameters:\n",
    "\n",
    "$\\mathcal{L} = min||b - A\\hat x||^2 = (b - A\\hat x)^T(b - A\\hat x)$\n",
    "\n",
    "$\\frac{d\\mathcal{L}}{d\\hat x} = -2b^TA + 2(A\\hat x)^T A = 0$\n",
    "\n",
    "move $b^TA$ to one side then transpose both sides gives the normal equation: \n",
    "\n",
    "$A^TA\\hat x = A^Tb$\n",
    "\n",
    "The shortcut to get there is to attach an $A^T$ on each side:\n",
    "\n",
    "$A^TA \\hat x = A^Tb$"
   ]
  },
  {
   "cell_type": "code",
   "execution_count": 46,
   "metadata": {},
   "outputs": [],
   "source": [
    "import numpy as np\n",
    "from sklearn.datasets import make_regression\n",
    "import matplotlib.pyplot as plt\n",
    "from sklearn.linear_model import LinearRegression"
   ]
  },
  {
   "cell_type": "code",
   "execution_count": 47,
   "metadata": {},
   "outputs": [],
   "source": [
    "class LinearRegressionNumpy():\n",
    "    def __init__(self, intercept=True):\n",
    "        self.params_ = 0\n",
    "        self.intercept = intercept\n",
    "        \n",
    "    def train(self, X, b):\n",
    "        if self.intercept:\n",
    "            A = np.concatenate([np.ones((len(X),1)),X], axis=1)\n",
    "        else:\n",
    "            A = X\n",
    "            \n",
    "        self.params_ = A.T @ b @ np.linalg.inv(A.T @ A)\n",
    "    \n",
    "    def predict(self, X):\n",
    "        if self.intercept:\n",
    "            A = np.concatenate([np.ones((len(X),1)),X], axis=1)\n",
    "        else:\n",
    "            A = X\n",
    "\n",
    "        y_pred = A @  self.params_\n",
    "        return y_pred"
   ]
  },
  {
   "cell_type": "code",
   "execution_count": 48,
   "metadata": {},
   "outputs": [],
   "source": [
    "# define data\n",
    "np.random.seed(14)\n",
    "n_features = 1\n",
    "X, y = make_regression(n_samples=200, n_features=n_features, n_informative=n_features)\n",
    "X += np.random.normal(0,0.5,X.shape)"
   ]
  },
  {
   "cell_type": "code",
   "execution_count": 49,
   "metadata": {},
   "outputs": [],
   "source": [
    "# model from scratch\n",
    "reg = LinearRegressionNumpy()\n",
    "reg.train(X, y)\n",
    "x_pred = np.linspace(-3,3, 200).reshape(-1,1)\n",
    "y_pred = reg.predict(x_pred)"
   ]
  },
  {
   "cell_type": "code",
   "execution_count": 50,
   "metadata": {},
   "outputs": [],
   "source": [
    "# model from sklearn\n",
    "reg2 = LinearRegression().fit(X, y)\n",
    "reg2_params = np.array([reg2.intercept_, reg2.coef_[0]])"
   ]
  },
  {
   "cell_type": "code",
   "execution_count": 51,
   "metadata": {},
   "outputs": [],
   "source": [
    "# check parameters are close\n",
    "assert (np.round(reg.params_,12) == np.round(reg2_params,12)).all()"
   ]
  },
  {
   "cell_type": "code",
   "execution_count": 53,
   "metadata": {},
   "outputs": [
    {
     "data": {
      "text/plain": [
       "[Text(0.5, 1.0, 'sklearn')]"
      ]
     },
     "execution_count": 53,
     "metadata": {},
     "output_type": "execute_result"
    },
    {
     "data": {
      "image/png": "[encoded data removed]",
      "text/plain": [
       "<Figure size 720x360 with 2 Axes>"
      ]
     },
     "metadata": {
      "needs_background": "light"
     },
     "output_type": "display_data"
    }
   ],
   "source": [
    "# plot comparison\n",
    "f, ax = plt.subplots(1, 2, figsize=(10,5))\n",
    "ax[0].plot(X, y, '.')\n",
    "ax[0].plot(x_pred, y_pred, 'r')\n",
    "ax[0].set(title='from scratch')\n",
    "\n",
    "ax[1].plot(X, y, '.')\n",
    "ax[1].plot(x_pred, reg2.predict(x_pred), 'r')\n",
    "ax[1].set(title='sklearn')"
   ]
  },
  {
   "cell_type": "code",
   "execution_count": null,
   "metadata": {},
   "outputs": [],
   "source": []
  }
 ],
 "metadata": {
  "kernelspec": {
   "display_name": "Python 3",
   "language": "python",
   "name": "python3"
  },
  "language_info": {
   "codemirror_mode": {
    "name": "ipython",
    "version": 3
   },
   "file_extension": ".py",
   "mimetype": "text/x-python",
   "name": "python",
   "nbconvert_exporter": "python",
   "pygments_lexer": "ipython3",
   "version": "3.6.8"
  },
  "toc": {
   "base_numbering": 1,
   "nav_menu": {},
   "number_sections": true,
   "sideBar": true,
   "skip_h1_title": false,
   "title_cell": "Table of Contents",
   "title_sidebar": "Contents",
   "toc_cell": false,
   "toc_position": {},
   "toc_section_display": true,
   "toc_window_display": false
  }
 },
 "nbformat": 4,
 "nbformat_minor": 2
}
