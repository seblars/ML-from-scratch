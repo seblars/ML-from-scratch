{
 "cells": [
  {
   "cell_type": "markdown",
   "metadata": {},
   "source": [
    "# Linear regression\n",
    "\n",
    "We wish to solve $Ax=b$ where A $\\in$ $\\mathbb{R}^{m\\times n}$ and $m > n$. \n",
    "\n",
    "i.e. we wish to best satisfy the solution that solves m equations with n unknowns.\n",
    "\n",
    "This is referred to as least squares method.\n",
    "\n",
    "We use the normal equation. The shortcut to get there is to attach an $A^T$ on each side:\n",
    "\n",
    "$A^TA x = A^Tb$\n",
    "\n",
    "It can be derived two ways:\n",
    "\n",
    "(1) geometrically as a projection, p, of vector b onto vector a:\n",
    "\n",
    "i.e. $a \\cdot (b - p) = a^Tb - a^Tp = 0$\n",
    "and $p=\\hat{x}a$\n",
    "\n",
    "so $a^Ta\\hat x = a^Tb$ which generalises to the matrix form.\n",
    "\n",
    "(2) take the derivative w.r.t the parameters:\n",
    "\n",
    "$\\mathcal{L} = min||b - A\\hat x||^2 = (b - A\\hat x)^T(b - A\\hat x)$\n",
    "\n",
    "$\\frac{d\\mathcal{L}}{d\\hat x} = -2b^T + 2(A\\hat x)^T A = 0$\n",
    "\n",
    "move to one side then transpose both sides gives the normal equation: \n",
    "\n",
    "$A^TA\\hat x = A^Tb$"
   ]
  },
  {
   "cell_type": "code",
   "execution_count": 143,
   "metadata": {},
   "outputs": [],
   "source": [
    "import numpy as np\n",
    "from sklearn.datasets import make_regression\n",
    "import matplotlib.pyplot as plt"
   ]
  },
  {
   "cell_type": "code",
   "execution_count": 144,
   "metadata": {},
   "outputs": [],
   "source": [
    "np.random.seed(14)\n",
    "n_features = 1\n",
    "X, y = make_regression(n_samples=200, n_features=n_features, n_informative=n_features)\n",
    "X += np.random.normal(0,0.5,X.shape)"
   ]
  },
  {
   "cell_type": "code",
   "execution_count": 149,
   "metadata": {},
   "outputs": [],
   "source": [
    "class LinearRegressionNumpy():\n",
    "    def __init__(self, intercept=True):\n",
    "        self.params_ = 0\n",
    "        self.intercept = intercept\n",
    "        \n",
    "    def train(self, X, y):\n",
    "        if self.intercept:\n",
    "            A = np.array([np.ones(len(X))] + [X[:,i] for i in range(X.shape[1])]).T\n",
    "        else:\n",
    "            A = X\n",
    "            \n",
    "        b = y\n",
    "        self.params_ = A.T @ b @ np.linalg.inv(A.T @ A)\n",
    "    \n",
    "    def predict(self, X):\n",
    "        if self.intercept:\n",
    "            A = np.array([np.ones(len(X))] + [X[:,i] for i in range(X.shape[1])]).T\n",
    "        else:\n",
    "            A = X\n",
    "\n",
    "        y_pred = A @  self.params_\n",
    "        return y_pred"
   ]
  },
  {
   "cell_type": "code",
   "execution_count": 150,
   "metadata": {},
   "outputs": [],
   "source": [
    "reg = LinearRegressionNumpy()\n",
    "\n",
    "reg.train(X, y)\n",
    "x_pred = np.linspace(-3,3, 200).reshape(-1,1)\n",
    "y_pred = reg.predict(x_pred)"
   ]
  },
  {
   "cell_type": "code",
   "execution_count": 151,
   "metadata": {},
   "outputs": [
    {
     "data": {
      "text/plain": [
       "[<matplotlib.lines.Line2D at 0x2e72c5d2470>]"
      ]
     },
     "execution_count": 151,
     "metadata": {},
     "output_type": "execute_result"
    },
    {
     "data": {
      "image/png": "[encoded data removed]",
      "text/plain": [
       "<Figure size 432x288 with 1 Axes>"
      ]
     },
     "metadata": {
      "needs_background": "light"
     },
     "output_type": "display_data"
    }
   ],
   "source": [
    "plt.plot(X, y, '.')\n",
    "plt.plot(x_pred, y_pred, 'r')"
   ]
  },
  {
   "cell_type": "code",
   "execution_count": 152,
   "metadata": {},
   "outputs": [
    {
     "data": {
      "text/plain": [
       "array([ True,  True])"
      ]
     },
     "execution_count": 152,
     "metadata": {},
     "output_type": "execute_result"
    }
   ],
   "source": [
    "from sklearn.linear_model import LinearRegression\n",
    "\n",
    "reg2 = LinearRegression().fit(X, y)\n",
    "reg2_params = np.array([reg2.intercept_, reg2.coef_[0]])\n",
    "np.isclose(reg.params_, reg2_params, rtol=1e-10)"
   ]
  },
  {
   "cell_type": "code",
   "execution_count": null,
   "metadata": {},
   "outputs": [],
   "source": []
  },
  {
   "cell_type": "code",
   "execution_count": null,
   "metadata": {},
   "outputs": [],
   "source": []
  },
  {
   "cell_type": "code",
   "execution_count": null,
   "metadata": {},
   "outputs": [],
   "source": []
  },
  {
   "cell_type": "code",
   "execution_count": null,
   "metadata": {},
   "outputs": [],
   "source": []
  },
  {
   "cell_type": "code",
   "execution_count": null,
   "metadata": {},
   "outputs": [],
   "source": []
  },
  {
   "cell_type": "code",
   "execution_count": null,
   "metadata": {},
   "outputs": [],
   "source": []
  },
  {
   "cell_type": "code",
   "execution_count": null,
   "metadata": {},
   "outputs": [],
   "source": []
  }
 ],
 "metadata": {
  "kernelspec": {
   "display_name": "Python 3",
   "language": "python",
   "name": "python3"
  },
  "language_info": {
   "codemirror_mode": {
    "name": "ipython",
    "version": 3
   },
   "file_extension": ".py",
   "mimetype": "text/x-python",
   "name": "python",
   "nbconvert_exporter": "python",
   "pygments_lexer": "ipython3",
   "version": "3.6.8"
  },
  "toc": {
   "base_numbering": 1,
   "nav_menu": {},
   "number_sections": true,
   "sideBar": true,
   "skip_h1_title": false,
   "title_cell": "Table of Contents",
   "title_sidebar": "Contents",
   "toc_cell": false,
   "toc_position": {},
   "toc_section_display": true,
   "toc_window_display": false
  }
 },
 "nbformat": 4,
 "nbformat_minor": 2
}
