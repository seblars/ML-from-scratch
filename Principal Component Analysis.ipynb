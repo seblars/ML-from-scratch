{
 "cells": [
  {
   "cell_type": "markdown",
   "metadata": {},
   "source": [
    "# Principal Component Analysis (PCA)\n",
    "\n",
    "In PCA we wish to perform dimensionality reduction on a dataset.\n",
    "\n",
    "The derivation can be achieved in two ways:\n",
    "1. the synthesis view, where we minise the average reconstruction error\n",
    "2. \n",
    "\n",
    "## Synthesis view\n",
    "The objective can be written as a Frobenius norm:\n",
    "$J(W, Z) = ||X - WZ^T||^2_F$,\n",
    "\n",
    "where $X$ is the data, $W$ is the parameters and $Z$ is an $n \\times l$ matrix with $z_i$ as rows.\n",
    "\n",
    "The Frobenius norm of a matrix $A$ is given by:\n",
    "$||A||_F = \\sqrt{\\sum_i \\sum_j a_{ij}^2 = \\sqrt{tr(A^T A)}}$\n",
    "\n",
    "The $W$ matrix has a contraint of orthogonality. The optimal solution is then achieved when $W$ contains the $l$ eigenvectors with largest eigenvalues of a covariance matrix of the data $\\Sigma = \\sum x_ix_i^T$\n",
    "\n",
    "We can project the data into a low dimensional space $z_i = W^Tx_i$. This results in an orthogonal projection of the data onto the column space spanned by the eigenvectors. $w_j$ then forms an orthogonal set of basis vectors.\n",
    "\n",
    "It can be shown as follows for the first component:\n",
    "\n",
    "$J(w_1, z_1) = \\frac{1}{N} = \\sum||x_i - z_{i1}w_1||^2$\n",
    "\n",
    "$J(w_1, z_1) = \\frac{1}{N} = \\sum(X_i^Tx_i - 2z_{i1}w_1^Tx_i + z_{i1}^2)$\n",
    "\n",
    "where $w^Tw = 1$ due to the orthogonaliy assumption\n",
    "\n",
    "Taking the derivitives w.r.t. $z_{i1}$ gives:\n",
    "\n",
    "$z_{i1} = W_1^Tx_i$\n",
    "\n",
    "This shows the optimal reconstruction weights are given by the orthogonal projection of the data onto the first principal component $w_1$.\n",
    "\n",
    "## Analysis view\n",
    "\n",
    "The analysis view shows that minimising the reconstruction error is equivalent to maximising the variance of the data.\n",
    "\n",
    "## Implementation\n",
    "\n",
    "In practise SVD is used to implement the algorithm. This allows non-square, $n \\times d$, real, matrix, $X$, to be decomposed as follows:\n",
    "\n",
    "$X = U S V^T$\n",
    "\n",
    "- $U$ is $n \\times n$ with orthonormal columns (eigenvector of $X X^T$)\n",
    "- $U$ is $n \\times d$ with orthonormal rows and columns ($\\sqrt()$ of eigenvalues of $X X^T$ and $X^T X$)\n",
    "- $V$ is $d \\times d$ with orthonormal rows (eigenvector of $X^T X$)\n",
    "\n",
    "Then $W = V$ and $Z=XW$ as shown above.\n",
    "\n",
    "Hence PCA can be computed in just a few lines of code\n",
    "\n",
    "Derivation follows K.P. Murphy \"Machine Learning A Probabalistic Perspective\".\n",
    "\n",
    "Some more details: [stack exchange](https://stats.stackexchange.com/questions/134282/relationship-between-svd-and-pca-how-to-use-svd-to-perform-pca)"
   ]
  },
  {
   "cell_type": "code",
   "execution_count": 368,
   "metadata": {},
   "outputs": [],
   "source": [
    "import numpy as np\n",
    "import matplotlib.pyplot as plt\n",
    "from sklearn.decomposition import PCA"
   ]
  },
  {
   "cell_type": "markdown",
   "metadata": {},
   "source": [
    "## Data"
   ]
  },
  {
   "cell_type": "code",
   "execution_count": 369,
   "metadata": {},
   "outputs": [],
   "source": [
    "np.random.seed(123)\n",
    "x = np.linspace(-1,1,200)\n",
    "y = 5*x + np.random.normal(0,1,len(x))"
   ]
  },
  {
   "cell_type": "code",
   "execution_count": 370,
   "metadata": {},
   "outputs": [],
   "source": [
    "X = np.array([x, y]).T\n",
    "X -= X.mean(0, keepdims=True)"
   ]
  },
  {
   "cell_type": "markdown",
   "metadata": {},
   "source": [
    "## From scratch"
   ]
  },
  {
   "cell_type": "code",
   "execution_count": 371,
   "metadata": {},
   "outputs": [],
   "source": [
    "U, S, Vt = np.linalg.svd(X)\n",
    "V = Vt.T\n",
    "Lambda = S**2/(len(X)-1)"
   ]
  },
  {
   "cell_type": "code",
   "execution_count": 410,
   "metadata": {},
   "outputs": [
    {
     "data": {
      "text/plain": [
       "array([[-0.1768511 , -0.98423762],\n",
       "       [-0.98423762,  0.1768511 ]])"
      ]
     },
     "execution_count": 410,
     "metadata": {},
     "output_type": "execute_result"
    }
   ],
   "source": [
    "V"
   ]
  },
  {
   "cell_type": "markdown",
   "metadata": {},
   "source": [
    "## Sci-kit learn"
   ]
  },
  {
   "cell_type": "code",
   "execution_count": 374,
   "metadata": {},
   "outputs": [],
   "source": [
    "pca = PCA(n_components=2).fit(X)"
   ]
  },
  {
   "cell_type": "code",
   "execution_count": 411,
   "metadata": {
    "scrolled": true
   },
   "outputs": [
    {
     "data": {
      "text/plain": [
       "array([[-0.1768511 ,  0.98423762],\n",
       "       [-0.98423762, -0.1768511 ]])"
      ]
     },
     "execution_count": 411,
     "metadata": {},
     "output_type": "execute_result"
    }
   ],
   "source": [
    "pca.components_.T"
   ]
  },
  {
   "cell_type": "markdown",
   "metadata": {},
   "source": [
    "## Comparison"
   ]
  },
  {
   "cell_type": "code",
   "execution_count": 402,
   "metadata": {},
   "outputs": [],
   "source": [
    "def gradients(x):\n",
    "    return [np.polyfit([0, x[0,i]], [0, x[1,i]], 1)[0] for i in range(len(x))]"
   ]
  },
  {
   "cell_type": "code",
   "execution_count": 403,
   "metadata": {},
   "outputs": [
    {
     "name": "stdout",
     "output_type": "stream",
     "text": [
      "Eigenvectors equal: True\n",
      "Eigenvalues equal: True\n"
     ]
    }
   ],
   "source": [
    "print('Eigenvectors equal:', np.array_equal(np.abs(V), np.abs(pca.components_)))\n",
    "print('Eigenvalues equal:', np.array_equal(Lambda, pca.explained_variance_))"
   ]
  },
  {
   "cell_type": "code",
   "execution_count": 404,
   "metadata": {},
   "outputs": [],
   "source": [
    "m_sk = gradients(pca.components_.T)\n",
    "m_np = gradients(V)"
   ]
  },
  {
   "cell_type": "code",
   "execution_count": 409,
   "metadata": {},
   "outputs": [
    {
     "data": {
      "text/plain": [
       "<matplotlib.legend.Legend at 0x1d031770f60>"
      ]
     },
     "execution_count": 409,
     "metadata": {},
     "output_type": "execute_result"
    },
    {
     "data": {
      "image/png": "[encoded data removed]",
      "text/plain": [
       "<Figure size 720x360 with 2 Axes>"
      ]
     },
     "metadata": {
      "needs_background": "light"
     },
     "output_type": "display_data"
    }
   ],
   "source": [
    "f, ax = plt.subplots(1,2,figsize=(10,5))\n",
    "\n",
    "ax[0].plot(X[:,0], X[:,1], '.')\n",
    "ax[0].plot(x, x*m_sk[0], 'r', label='PC1')\n",
    "ax[0].plot(x, x*m_sk[1], 'g', label='PC2')\n",
    "ax[0].set_xlim(-1,1)\n",
    "ax[0].set(title='Sci-kit learn', xlabel='x1', ylabel='x2')\n",
    "ax[0].legend()\n",
    "\n",
    "ax[1].plot(X[:,0], X[:,1], '.')\n",
    "ax[1].plot(x, x*m_np[0], 'r', label='PC1')\n",
    "ax[1].plot(x, x*m_np[1], 'g', label='PC2')\n",
    "ax[1].set_xlim(-1,1)\n",
    "ax[1].set(title='From scratch', xlabel='x1', ylabel='x2')\n",
    "ax[1].legend()"
   ]
  }
 ],
 "metadata": {
  "kernelspec": {
   "display_name": "Python 3",
   "language": "python",
   "name": "python3"
  },
  "language_info": {
   "codemirror_mode": {
    "name": "ipython",
    "version": 3
   },
   "file_extension": ".py",
   "mimetype": "text/x-python",
   "name": "python",
   "nbconvert_exporter": "python",
   "pygments_lexer": "ipython3",
   "version": "3.6.8"
  },
  "toc": {
   "base_numbering": 1,
   "nav_menu": {},
   "number_sections": true,
   "sideBar": true,
   "skip_h1_title": false,
   "title_cell": "Table of Contents",
   "title_sidebar": "Contents",
   "toc_cell": false,
   "toc_position": {},
   "toc_section_display": true,
   "toc_window_display": false
  }
 },
 "nbformat": 4,
 "nbformat_minor": 2
}
