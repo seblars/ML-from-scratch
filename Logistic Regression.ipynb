{
 "cells": [
  {
   "cell_type": "markdown",
   "metadata": {},
   "source": [
    "# Logistic Regression\n",
    "\n",
    "## Derivation:\n",
    "\n",
    "Logistic regression is similar to linear regression, however we wish to predict a probability between 0 and 1 rather than an unbounded value. This can be achieved with the sigmoid function a:\n",
    "\n",
    "$a(z)=\\frac{1}{1 + e^{-z}}$\n",
    "\n",
    "However, the mean squared error becomes non-convex as an objective function so we need another method. Logistic regression, therefore, minimises the log loss (i.e. the binary cross-entropy loss):\n",
    "\n",
    "$\\mathcal{L} = - \\sum_{i=1}^m y_ilog(a_i) - (1 - y_i)log(1 - a_i)$,\n",
    "\n",
    "where:\n",
    "- $y$ is the label, 0 or 1\n",
    "- $m$ is the number of data points\n",
    "\n",
    "But where does this come from you ask? We also call this the log liklihood function and derives from the Bernouli liklihood which is what we wish to maximise [wikipedia](https://en.wikipedia.org/wiki/Bernoulli_distribution): \n",
    "\n",
    "$f(k;p) = p^k(1-p)^{1-k}$.\n",
    "\n",
    "Applying log is equivalent since we only wish to maximise the liklihood while making things easier to deal with.\n",
    "\n",
    "We then take the derivitive w.r.t a:\n",
    "\n",
    "$\\frac{d\\mathcal{L}}{da} = -\\frac{y}{a} + \\frac{1-y}{1-a}$\n",
    "\n",
    "We also need the derivitive of the sigmoid function (a(z)) derivitive w.r.t. x:\n",
    "\n",
    "$\\frac{da}{dz} = \\frac{e^{-z}}{(1+e^{-z})^2}$\n",
    "\n",
    "$\\frac{da}{dz} = a(z)(1 - a(z))$\n",
    "\n",
    "Applying the chain rule we get a very neat solution:\n",
    "\n",
    "$\\frac{d\\mathcal{L}}{dz} = \\frac{d\\mathcal{L}}{da}\\frac{da}{dz} = a(z)-y$\n",
    "\n",
    "There is a final step to get to the parameters, since $z = \\theta^Tx$:\n",
    "\n",
    "$\\frac{dz}{d\\theta} = x$\n",
    "\n",
    "we then apply the chain rule one final time, in vector form:\n",
    "\n",
    "$\\frac{d\\mathcal{L}}{d\\theta} = \\frac{d\\mathcal{L}}{da}\\frac{da}{dz}\\frac{dz}{d\\theta} = \\frac{1}{m}X(A-Y)^T$.\n",
    "\n",
    "Unfortunately, we cannot optimise this in a single step and an iterative approach is requred. Using gradient descent the update rule is then:\n",
    "\n",
    "$\\theta = \\theta - \\alpha \\frac{d\\mathcal{L}}{d\\theta}$,\n",
    "\n",
    "where $\\alpha$ is the learning rate which is a user specified parameter.\n"
   ]
  },
  {
   "cell_type": "code",
   "execution_count": 570,
   "metadata": {},
   "outputs": [],
   "source": [
    "from sklearn.datasets import make_classification\n",
    "from sklearn.linear_model import LogisticRegression\n",
    "import matplotlib.pyplot as plt\n",
    "import numpy as np"
   ]
  },
  {
   "cell_type": "code",
   "execution_count": 676,
   "metadata": {},
   "outputs": [],
   "source": [
    "class LogisticRegressionNp:\n",
    "    def __init__ (self, alpha=0.1, n_iter=100, tol=1e-4, thres=0.5, intercept=True):\n",
    "        self.alpha = alpha\n",
    "        self.n_iter = n_iter\n",
    "        self.params_ = 0\n",
    "        self.tol = tol\n",
    "        self.thres = thres\n",
    "        self.intercept = intercept\n",
    "        \n",
    "    def train(self, X, y):\n",
    "        self.training = True\n",
    "        if self.intercept:\n",
    "            X = np.concatenate([np.ones((len(X),1)), X], axis=1)\n",
    "            \n",
    "#         self.params_ = np.random.uniform(0,1,[X.shape[1], 1])\n",
    "        self.params_ = np.zeros([X.shape[1], 1])\n",
    "        m = len(X)\n",
    "        loss = []\n",
    "        converged = 0\n",
    "        for i in range(self.n_iter):\n",
    "            \n",
    "            a = self.predict(X)\n",
    "            \n",
    "            # calculate grads\n",
    "            dz = (a - y).reshape(-1,1)\n",
    "            dtheta = 1/m*(X.T @ dz)\n",
    "            # apply update rule\n",
    "            self.params_ -= self.alpha * dtheta #+ np.random.uniform(0, self.tol/10, dtheta.shape)\n",
    "            \n",
    "            # calculate loss\n",
    "            loss.append(self.log_loss(y,a))\n",
    "            \n",
    "            if (i > 0) and np.abs(loss[i] - loss[i-1]) < self.tol:\n",
    "                print(f'Converged to {self.tol} after {i} iterations.')\n",
    "                converged = 1\n",
    "                break\n",
    "                \n",
    "        self.ll = loss[-1]\n",
    "        self.training = False\n",
    "        if not converged:\n",
    "            print('Warning! Failed to reach convergence tol!', self.tol)\n",
    "        \n",
    "    def predict(self, X):\n",
    "        if self.intercept and not self.training:\n",
    "            X = np.concatenate([np.ones((len(X),1)), X], axis=1)\n",
    "        return self.sigmoid(X @ self.params_).reshape(-1)\n",
    "    \n",
    "    def score(self, X, y):\n",
    "        return ((self.predict(X) > self.thres) == y).sum()/len(X)\n",
    "    \n",
    "    @staticmethod\n",
    "    def sigmoid(z):\n",
    "        return 1/(1+np.exp(-z))\n",
    "    \n",
    "    @staticmethod\n",
    "    def log_loss(y, a):\n",
    "        return (-y*np.log(a) - (1-y)*np.log(1-a)).mean()\n",
    "    "
   ]
  },
  {
   "cell_type": "code",
   "execution_count": 677,
   "metadata": {},
   "outputs": [],
   "source": [
    "# create the dataset and grid for plots\n",
    "np.random.seed(13)\n",
    "m = 2\n",
    "X, y = make_classification(200, m, m, 0)\n",
    "x1g = np.linspace(X[:,0].min(), X[:,0].max(), 100)\n",
    "x2g = np.linspace(X[:,1].min(), X[:,1].max(), 100)\n",
    "Xg = np.array([i.flatten() for i in np.meshgrid(x1g,x2g)]).T"
   ]
  },
  {
   "cell_type": "code",
   "execution_count": 678,
   "metadata": {
    "scrolled": true
   },
   "outputs": [
    {
     "name": "stdout",
     "output_type": "stream",
     "text": [
      "Converged to 0.0001 after 9 iterations.\n"
     ]
    },
    {
     "data": {
      "text/plain": [
       "0.965"
      ]
     },
     "execution_count": 678,
     "metadata": {},
     "output_type": "execute_result"
    }
   ],
   "source": [
    "# from scratch\n",
    "clf = LogisticRegressionNp(alpha=15)\n",
    "clf.train(X, y)\n",
    "clf.score(X, y)"
   ]
  },
  {
   "cell_type": "code",
   "execution_count": 679,
   "metadata": {},
   "outputs": [
    {
     "data": {
      "text/plain": [
       "array([[-1.5762629 ],\n",
       "       [ 0.05340533],\n",
       "       [ 7.38999745]])"
      ]
     },
     "execution_count": 679,
     "metadata": {},
     "output_type": "execute_result"
    }
   ],
   "source": [
    "clf.params_"
   ]
  },
  {
   "cell_type": "code",
   "execution_count": 680,
   "metadata": {},
   "outputs": [
    {
     "data": {
      "text/plain": [
       "0.96"
      ]
     },
     "execution_count": 680,
     "metadata": {},
     "output_type": "execute_result"
    }
   ],
   "source": [
    "# sklearn\n",
    "clf2 = LogisticRegression(penalty='none', solver='saga').fit(X, y)\n",
    "clf2.score(X,y)"
   ]
  },
  {
   "cell_type": "code",
   "execution_count": 681,
   "metadata": {},
   "outputs": [
    {
     "data": {
      "text/plain": [
       "(array([-1.58571921]), array([[0.06871159, 7.28424519]]))"
      ]
     },
     "execution_count": 681,
     "metadata": {},
     "output_type": "execute_result"
    }
   ],
   "source": [
    "clf2.intercept_, clf2.coef_"
   ]
  },
  {
   "cell_type": "code",
   "execution_count": 682,
   "metadata": {},
   "outputs": [
    {
     "data": {
      "text/plain": [
       "[Text(0.5, 1.0, 'sklearn')]"
      ]
     },
     "execution_count": 682,
     "metadata": {},
     "output_type": "execute_result"
    },
    {
     "data": {
      "image/png": "[encoded data removed]",
      "text/plain": [
       "<Figure size 720x360 with 2 Axes>"
      ]
     },
     "metadata": {
      "needs_background": "light"
     },
     "output_type": "display_data"
    }
   ],
   "source": [
    "f, ax = plt.subplots(1,2,figsize=(10,5))\n",
    "ax[0].contourf(x1g, x2g, clf.predict(Xg).reshape(100,100))\n",
    "ax[0].scatter(X[:,0], X[:,1], c=clf.predict(X).reshape(-1) > 0.5)\n",
    "ax[0].set(title='from scratch')\n",
    "\n",
    "ax[1].contourf(x1g, x2g, clf2.predict_proba(Xg)[:,1].reshape(100,100))\n",
    "ax[1].scatter(X[:,0], X[:,1], c=clf2.predict(X))\n",
    "ax[1].set(title='sklearn')"
   ]
  },
  {
   "cell_type": "markdown",
   "metadata": {},
   "source": [
    "## Note on sklearn solution\n",
    "\n",
    "Note that we had to switch off the penalty term. This is because to sklearn uses L2 regularization, a topic for another time. The standard solver (lbfgs) also uses a second order derivitive (similar to the Newton method) compared to the first order (sag or gradient descent) above. We see the parameters are not identical as a result. I might implement some of these later. [See documentation for details](https://scikit-learn.org/stable/modules/generated/sklearn.linear_model.LogisticRegression.html). [See here for details on solvers](https://stackoverflow.com/questions/38640109/logistic-regression-python-solvers-definitions)."
   ]
  },
  {
   "cell_type": "code",
   "execution_count": null,
   "metadata": {},
   "outputs": [],
   "source": []
  },
  {
   "cell_type": "code",
   "execution_count": null,
   "metadata": {},
   "outputs": [],
   "source": []
  },
  {
   "cell_type": "code",
   "execution_count": null,
   "metadata": {},
   "outputs": [],
   "source": []
  }
 ],
 "metadata": {
  "kernelspec": {
   "display_name": "Python 3",
   "language": "python",
   "name": "python3"
  },
  "language_info": {
   "codemirror_mode": {
    "name": "ipython",
    "version": 3
   },
   "file_extension": ".py",
   "mimetype": "text/x-python",
   "name": "python",
   "nbconvert_exporter": "python",
   "pygments_lexer": "ipython3",
   "version": "3.6.8"
  },
  "toc": {
   "base_numbering": 1,
   "nav_menu": {},
   "number_sections": true,
   "sideBar": true,
   "skip_h1_title": false,
   "title_cell": "Table of Contents",
   "title_sidebar": "Contents",
   "toc_cell": false,
   "toc_position": {},
   "toc_section_display": true,
   "toc_window_display": false
  }
 },
 "nbformat": 4,
 "nbformat_minor": 2
}
